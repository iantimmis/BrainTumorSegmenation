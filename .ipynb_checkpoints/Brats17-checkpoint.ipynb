{
 "cells": [
  {
   "cell_type": "markdown",
   "metadata": {},
   "source": [
    "# Multimodal Brain Tumor Segmentation"
   ]
  },
  {
   "cell_type": "markdown",
   "metadata": {},
   "source": [
    "<img src=\"brats.png\" width=100%>"
   ]
  },
  {
   "cell_type": "code",
   "execution_count": 1,
   "metadata": {},
   "outputs": [
    {
     "name": "stderr",
     "output_type": "stream",
     "text": [
      "Using TensorFlow backend.\n"
     ]
    }
   ],
   "source": [
    "# Deep Learning\n",
    "from keras.models import Model, load_model\n",
    "from keras.layers import Input\n",
    "from keras.layers.core import Lambda, RepeatVector, Reshape\n",
    "from keras.layers.convolutional import Conv2D, Conv2DTranspose\n",
    "from keras.layers.pooling import MaxPooling2D\n",
    "from keras.layers.merge import concatenate\n",
    "from keras.callbacks import EarlyStopping, ModelCheckpoint, ReduceLROnPlateau\n",
    "from keras import backend as K\n",
    "\n",
    "import tensorflow as tf\n",
    "\n",
    "# Linear Algebra\n",
    "import numpy as np\n",
    "\n",
    "# Neuroimaging\n",
    "import nibabel as nib\n",
    "\n",
    "# Data Analysis\n",
    "import pandas as pd\n",
    "\n",
    "# Data Visualization\n",
    "from matplotlib import pyplot as plt\n",
    "import seaborn as sns\n",
    "sns.set(style=\"darkgrid\")\n",
    "\n",
    "# File IO\n",
    "import os\n",
    "\n",
    "import warnings\n",
    "warnings.simplefilter(action='ignore', category=FutureWarning)"
   ]
  },
  {
   "cell_type": "code",
   "execution_count": 2,
   "metadata": {},
   "outputs": [],
   "source": [
    "%matplotlib inline"
   ]
  },
  {
   "cell_type": "markdown",
   "metadata": {},
   "source": [
    "# Hyperparameters and Configurations"
   ]
  },
  {
   "cell_type": "code",
   "execution_count": 3,
   "metadata": {},
   "outputs": [],
   "source": [
    "directory = \"/Users/itimmis/Desktop/Concentration2/BratsNet_Data/\""
   ]
  },
  {
   "cell_type": "markdown",
   "metadata": {},
   "source": [
    "# Data Exploration"
   ]
  },
  {
   "cell_type": "code",
   "execution_count": 4,
   "metadata": {},
   "outputs": [
    {
     "name": "stdout",
     "output_type": "stream",
     "text": [
      "total 16968\r\n",
      "-rwxrwxr-x  1 itimmis  staff  2150267 May  5  2017 \u001b[31mBrats17_2013_10_1_flair.nii.gz\u001b[m\u001b[m\r\n",
      "-rwxrwxr-x  1 itimmis  staff    40241 May  5  2017 \u001b[31mBrats17_2013_10_1_seg.nii.gz\u001b[m\u001b[m\r\n",
      "-rwxrwxr-x  1 itimmis  staff  2020467 May  5  2017 \u001b[31mBrats17_2013_10_1_t1.nii.gz\u001b[m\u001b[m\r\n",
      "-rwxrwxr-x  1 itimmis  staff  2214258 May  5  2017 \u001b[31mBrats17_2013_10_1_t1ce.nii.gz\u001b[m\u001b[m\r\n",
      "-rwxrwxr-x  1 itimmis  staff  2253199 May  5  2017 \u001b[31mBrats17_2013_10_1_t2.nii.gz\u001b[m\u001b[m\r\n"
     ]
    }
   ],
   "source": [
    "!ls -l /Users/itimmis/Desktop/Concentration2/BratsNet_Data/HGG/Brats17_2013_10_1"
   ]
  },
  {
   "cell_type": "code",
   "execution_count": 5,
   "metadata": {},
   "outputs": [
    {
     "name": "stdout",
     "output_type": "stream",
     "text": [
      "Brats17ID    163\n",
      "Age          163\n",
      "Survival     163\n",
      "dtype: int64\n"
     ]
    },
    {
     "data": {
      "text/html": [
       "<div>\n",
       "<style scoped>\n",
       "    .dataframe tbody tr th:only-of-type {\n",
       "        vertical-align: middle;\n",
       "    }\n",
       "\n",
       "    .dataframe tbody tr th {\n",
       "        vertical-align: top;\n",
       "    }\n",
       "\n",
       "    .dataframe thead th {\n",
       "        text-align: right;\n",
       "    }\n",
       "</style>\n",
       "<table border=\"1\" class=\"dataframe\">\n",
       "  <thead>\n",
       "    <tr style=\"text-align: right;\">\n",
       "      <th></th>\n",
       "      <th>Brats17ID</th>\n",
       "      <th>Age</th>\n",
       "      <th>Survival</th>\n",
       "    </tr>\n",
       "  </thead>\n",
       "  <tbody>\n",
       "    <tr>\n",
       "      <th>0</th>\n",
       "      <td>Brats17_TCIA_167_1</td>\n",
       "      <td>74.907</td>\n",
       "      <td>153</td>\n",
       "    </tr>\n",
       "    <tr>\n",
       "      <th>1</th>\n",
       "      <td>Brats17_TCIA_242_1</td>\n",
       "      <td>66.479</td>\n",
       "      <td>147</td>\n",
       "    </tr>\n",
       "    <tr>\n",
       "      <th>2</th>\n",
       "      <td>Brats17_TCIA_319_1</td>\n",
       "      <td>64.860</td>\n",
       "      <td>254</td>\n",
       "    </tr>\n",
       "    <tr>\n",
       "      <th>3</th>\n",
       "      <td>Brats17_TCIA_469_1</td>\n",
       "      <td>63.899</td>\n",
       "      <td>519</td>\n",
       "    </tr>\n",
       "    <tr>\n",
       "      <th>4</th>\n",
       "      <td>Brats17_TCIA_218_1</td>\n",
       "      <td>57.345</td>\n",
       "      <td>346</td>\n",
       "    </tr>\n",
       "  </tbody>\n",
       "</table>\n",
       "</div>"
      ],
      "text/plain": [
       "            Brats17ID     Age  Survival\n",
       "0  Brats17_TCIA_167_1  74.907       153\n",
       "1  Brats17_TCIA_242_1  66.479       147\n",
       "2  Brats17_TCIA_319_1  64.860       254\n",
       "3  Brats17_TCIA_469_1  63.899       519\n",
       "4  Brats17_TCIA_218_1  57.345       346"
      ]
     },
     "execution_count": 5,
     "metadata": {},
     "output_type": "execute_result"
    }
   ],
   "source": [
    "survival_dataframe = pd.read_csv(directory + 'survival_data.csv')\n",
    "print(survival_dataframe.count())\n",
    "survival_dataframe.head()"
   ]
  },
  {
   "cell_type": "code",
   "execution_count": 6,
   "metadata": {},
   "outputs": [
    {
     "data": {
      "image/png": "[encoded data removed]",
      "text/plain": [
       "<Figure size 432x432 with 1 Axes>"
      ]
     },
     "metadata": {
      "needs_background": "light"
     },
     "output_type": "display_data"
    }
   ],
   "source": [
    "plt.figure(figsize = (6, 6))\n",
    "vals = survival_dataframe['Age']\n",
    "sns.distplot(vals)\n",
    "plt.title('Age distribution')\n",
    "plt.show()"
   ]
  },
  {
   "cell_type": "code",
   "execution_count": 7,
   "metadata": {},
   "outputs": [
    {
     "data": {
      "image/png": "[encoded data removed]",
      "text/plain": [
       "<Figure size 432x432 with 1 Axes>"
      ]
     },
     "metadata": {
      "needs_background": "light"
     },
     "output_type": "display_data"
    }
   ],
   "source": [
    "plt.figure(figsize=(6, 6))\n",
    "sns.distplot(survival_dataframe['Survival'], bins=50)\n",
    "plt.title('Survival distribution')\n",
    "plt.show()"
   ]
  },
  {
   "cell_type": "code",
   "execution_count": 8,
   "metadata": {},
   "outputs": [
    {
     "data": {
      "text/plain": [
       "<matplotlib.axes._subplots.AxesSubplot at 0x1a302becc0>"
      ]
     },
     "execution_count": 8,
     "metadata": {},
     "output_type": "execute_result"
    },
    {
     "data": {
      "image/png": "[encoded data removed]",
      "text/plain": [
       "<Figure size 864x432 with 1 Axes>"
      ]
     },
     "metadata": {
      "needs_background": "light"
     },
     "output_type": "display_data"
    }
   ],
   "source": [
    "fig, ax = plt.subplots(figsize=(12,6))\n",
    "sns.regplot(ax=ax, x=survival_dataframe['Survival'], y=survival_dataframe['Age'])"
   ]
  },
  {
   "cell_type": "code",
   "execution_count": 9,
   "metadata": {},
   "outputs": [
    {
     "name": "stdout",
     "output_type": "stream",
     "text": [
      "Correlation:  -0.3721450109061552\n"
     ]
    }
   ],
   "source": [
    "correlation = np.corrcoef(survival_dataframe['Survival'], survival_dataframe['Age'])[0, 1]\n",
    "print(\"Correlation: \", correlation)"
   ]
  },
  {
   "cell_type": "code",
   "execution_count": 10,
   "metadata": {},
   "outputs": [
    {
     "data": {
      "image/png": "[encoded data removed]",
      "text/plain": [
       "<Figure size 432x432 with 3 Axes>"
      ]
     },
     "metadata": {
      "needs_background": "light"
     },
     "output_type": "display_data"
    }
   ],
   "source": [
    "sns.jointplot(x=\"Survival\", y=\"Age\", data=survival_dataframe, kind=\"kde\");"
   ]
  },
  {
   "cell_type": "markdown",
   "metadata": {},
   "source": [
    "# Load MR Images"
   ]
  },
  {
   "cell_type": "code",
   "execution_count": 11,
   "metadata": {},
   "outputs": [],
   "source": [
    "def load_filenames(directory):\n",
    "    os.walk(directory)\n",
    "    res = [x[2] for x in os.walk(directory)]\n",
    "    res = [file for folder in res for file in folder if '.gz' in file]\n",
    "    return res"
   ]
  },
  {
   "cell_type": "code",
   "execution_count": 12,
   "metadata": {},
   "outputs": [
    {
     "data": {
      "text/plain": [
       "285.0"
      ]
     },
     "execution_count": 12,
     "metadata": {},
     "output_type": "execute_result"
    }
   ],
   "source": [
    "res = load_filenames(directory)\n",
    "len(res)/5"
   ]
  },
  {
   "cell_type": "markdown",
   "metadata": {},
   "source": [
    "# Brain Image Examples"
   ]
  },
  {
   "cell_type": "code",
   "execution_count": 13,
   "metadata": {},
   "outputs": [
    {
     "name": "stdout",
     "output_type": "stream",
     "text": [
      "total 16968\r\n",
      "-rwxrwxr-x  1 itimmis  staff  2150267 May  5  2017 \u001b[31mBrats17_2013_10_1_flair.nii.gz\u001b[m\u001b[m\r\n",
      "-rwxrwxr-x  1 itimmis  staff    40241 May  5  2017 \u001b[31mBrats17_2013_10_1_seg.nii.gz\u001b[m\u001b[m\r\n",
      "-rwxrwxr-x  1 itimmis  staff  2020467 May  5  2017 \u001b[31mBrats17_2013_10_1_t1.nii.gz\u001b[m\u001b[m\r\n",
      "-rwxrwxr-x  1 itimmis  staff  2214258 May  5  2017 \u001b[31mBrats17_2013_10_1_t1ce.nii.gz\u001b[m\u001b[m\r\n",
      "-rwxrwxr-x  1 itimmis  staff  2253199 May  5  2017 \u001b[31mBrats17_2013_10_1_t2.nii.gz\u001b[m\u001b[m\r\n"
     ]
    }
   ],
   "source": [
    "!ls -l /Users/itimmis/Desktop/Concentration2/BratsNet_Data/HGG/Brats17_2013_10_1/"
   ]
  },
  {
   "cell_type": "code",
   "execution_count": 14,
   "metadata": {},
   "outputs": [],
   "source": [
    "path = '/Users/itimmis/Desktop/Concentration2/BratsNet_Data/HGG/Brats17_2013_10_1/Brats17_2013_10_1_t2.nii.gz'"
   ]
  },
  {
   "cell_type": "code",
   "execution_count": 15,
   "metadata": {},
   "outputs": [],
   "source": [
    "mri = nib.load(path)\n",
    "img = mri.get_fdata()"
   ]
  },
  {
   "cell_type": "code",
   "execution_count": 16,
   "metadata": {},
   "outputs": [
    {
     "data": {
      "text/plain": [
       "(240, 240, 155)"
      ]
     },
     "execution_count": 16,
     "metadata": {},
     "output_type": "execute_result"
    }
   ],
   "source": [
    "mri.shape"
   ]
  },
  {
   "cell_type": "code",
   "execution_count": 17,
   "metadata": {},
   "outputs": [],
   "source": [
    "def show_slices(slices, names):\n",
    "    \"\"\" Function to display row of image slices\"\"\"\n",
    "    fig, axes = plt.subplots(1, len(slices))\n",
    "    for i, slice in enumerate(slices):\n",
    "        axes[i].set_axis_off()\n",
    "        axes[i].set_title(names[i])\n",
    "        axes[i].imshow(slice.T, cmap=\"gray\", origin=\"lower\")"
   ]
  },
  {
   "cell_type": "code",
   "execution_count": 18,
   "metadata": {},
   "outputs": [],
   "source": [
    "i = 0"
   ]
  },
  {
   "cell_type": "code",
   "execution_count": 19,
   "metadata": {},
   "outputs": [
    {
     "data": {
      "image/png": "[encoded data removed]",
      "text/plain": [
       "<Figure size 432x288 with 5 Axes>"
      ]
     },
     "metadata": {},
     "output_type": "display_data"
    }
   ],
   "source": [
    "# slice_0 = img[100 + i,:,:]\n",
    "# slice_1 = img[:,100 + i,:]\n",
    "# slice_2 = img[:,:,77+i]\n",
    "\n",
    "folder = '/Users/itimmis/Desktop/Concentration2/BratsNet_Data/HGG/Brats17_2013_10_1/'\n",
    "\n",
    "names = ['T1', 'T1ce', 'T2', 'FLAIR', 'segment']\n",
    "\n",
    "t1 = ((nib.load(folder + 'Brats17_2013_10_1_t1.nii.gz')).get_fdata())[:,:,77]\n",
    "t1ce = ((nib.load(folder + 'Brats17_2013_10_1_t1ce.nii.gz')).get_fdata())[:,:,77]\n",
    "t2 = ((nib.load(folder + 'Brats17_2013_10_1_t2.nii.gz')).get_fdata())[:,:,77]\n",
    "flair = ((nib.load(folder + 'Brats17_2013_10_1_flair.nii.gz')).get_fdata())[:,:,77]\n",
    "seg = ((nib.load(folder + 'Brats17_2013_10_1_seg.nii.gz')).get_fdata())[:,:,77]\n",
    "\n",
    "examples = [t1,t1ce,t2,flair,seg]\n",
    "\n",
    "with sns.axes_style('white'):\n",
    "#     show_slices([slice_0, slice_1, slice_2])\n",
    "    show_slices(examples,names)\n",
    "#     plt.suptitle(\"Center slices for EPI image\") \n",
    "#     plt.suptitle(\"MR Image example\")"
   ]
  },
  {
   "cell_type": "code",
   "execution_count": 20,
   "metadata": {},
   "outputs": [],
   "source": [
    "path = '/Users/itimmis/Desktop/Concentration2/BratsNet_Data/HGG/Brats17_2013_10_1/Brats17_2013_10_1_seg.nii.gz'"
   ]
  },
  {
   "cell_type": "code",
   "execution_count": 21,
   "metadata": {},
   "outputs": [
    {
     "data": {
      "text/plain": [
       "(240, 240, 155)"
      ]
     },
     "execution_count": 21,
     "metadata": {},
     "output_type": "execute_result"
    }
   ],
   "source": [
    "mri = nib.load(path)\n",
    "img = mri.get_fdata()\n",
    "img.shape"
   ]
  },
  {
   "cell_type": "code",
   "execution_count": 24,
   "metadata": {},
   "outputs": [
    {
     "data": {
      "image/png": "[encoded data removed]",
      "text/plain": [
       "<Figure size 432x288 with 3 Axes>"
      ]
     },
     "metadata": {},
     "output_type": "display_data"
    }
   ],
   "source": [
    "slice_0 = img[100 + i,:,:]\n",
    "slice_1 = img[:,100 + i,:]\n",
    "slice_2 = img[:,:,77+i]\n",
    "with sns.axes_style('white'):\n",
    "    show_slices([slice_0, slice_1, slice_2], [\"\",\"\",\"\"])\n",
    "    plt.suptitle(\"Tumor Segmentation Labels\") "
   ]
  },
  {
   "cell_type": "markdown",
   "metadata": {},
   "source": [
    "Labels\n",
    "* Label 0: background\n",
    "* Label 1: necrotic and non-enhancing tumor\n",
    "* Label 2: edema\n",
    "* Label 4: enhancing tumor"
   ]
  },
  {
   "cell_type": "markdown",
   "metadata": {},
   "source": [
    "# U-Net"
   ]
  },
  {
   "cell_type": "markdown",
   "metadata": {},
   "source": [
    "<img src=\"https://lmb.informatik.uni-freiburg.de/people/ronneber/u-net/u-net-architecture.png\" height=70% width=70%>"
   ]
  },
  {
   "cell_type": "code",
   "execution_count": 26,
   "metadata": {},
   "outputs": [],
   "source": [
    "# (im_height, im_width, im_chan) = mri.shape\n",
    "# n_features = 2 # Age and Survival data\n",
    "\n",
    "# # Build U-Net model\n",
    "# input_img = Input((im_height, im_width, im_chan), name='img')\n",
    "# input_features = Input((n_features, ), name='feat')\n",
    "\n",
    "# c1 = Conv2D(8, (3, 3), activation='relu', padding='same') (input_img)\n",
    "# c1 = Conv2D(8, (3, 3), activation='relu', padding='same') (c1)\n",
    "# p1 = MaxPooling2D((2, 2)) (c1)\n",
    "\n",
    "# c2 = Conv2D(16, (3, 3), activation='relu', padding='same') (p1)\n",
    "# c2 = Conv2D(16, (3, 3), activation='relu', padding='same') (c2)\n",
    "# p2 = MaxPooling2D((2, 2)) (c2)\n",
    "\n",
    "# c3 = Conv2D(32, (3, 3), activation='relu', padding='same') (p2)\n",
    "# c3 = Conv2D(32, (3, 3), activation='relu', padding='same') (c3)\n",
    "# p3 = MaxPooling2D((2, 2)) (c3)\n",
    "\n",
    "# c4 = Conv2D(64, (3, 3), activation='relu', padding='same') (p3)\n",
    "# c4 = Conv2D(64, (3, 3), activation='relu', padding='same') (c4)\n",
    "# p4 = MaxPooling2D(pool_size=(2, 2)) (c4)\n",
    "\n",
    "# # Join features information in the depthest layer\n",
    "# # f_repeat = RepeatVector(15*15)(input_features)\n",
    "# # f_conv = Reshape((15, 15, n_features))(f_repeat)\n",
    "# # p4_feat = concatenate([p4, f_conv], -1)\n",
    "\n",
    "# # c5 = Conv2D(128, (3, 3), activation='relu', padding='same') (p4_feat)\n",
    "# c5 = Conv2D(128, (3, 3), activation='relu', padding='same') (p4)\n",
    "# c5 = Conv2D(128, (3, 3), activation='relu', padding='same') (c5)\n",
    "\n",
    "# u6 = Conv2DTranspose(64, (2, 2), strides=(2, 2), padding='same') (c5)\n",
    "# u6 = concatenate([u6, c4]) # skip connection\n",
    "# c6 = Conv2D(64, (3, 3), activation='relu', padding='same') (u6)\n",
    "# c6 = Conv2D(64, (3, 3), activation='relu', padding='same') (c6)\n",
    "\n",
    "# u7 = Conv2DTranspose(32, (2, 2), strides=(2, 2), padding='same') (c6)\n",
    "# u7 = concatenate([u7, c3]) \n",
    "# c7 = Conv2D(32, (3, 3), activation='relu', padding='same') (u7)\n",
    "# c7 = Conv2D(32, (3, 3), activation='relu', padding='same') (c7)\n",
    "\n",
    "# u8 = Conv2DTranspose(16, (2, 2), strides=(2, 2), padding='same') (c7)\n",
    "# u8 = concatenate([u8, c2])\n",
    "# c8 = Conv2D(16, (3, 3), activation='relu', padding='same') (u8)\n",
    "# c8 = Conv2D(16, (3, 3), activation='relu', padding='same') (c8)\n",
    "\n",
    "# u9 = Conv2DTranspose(8, (2, 2), strides=(2, 2), padding='same') (c8)\n",
    "# u9 = concatenate([u9, c1], axis=3)\n",
    "# c9 = Conv2D(8, (3, 3), activation='relu', padding='same') (u9)\n",
    "# c9 = Conv2D(8, (3, 3), activation='relu', padding='same') (c9)\n",
    "\n",
    "# outputs = Conv2D(1, (1, 1), activation='sigmoid') (c9)\n",
    "\n",
    "# model = Model(inputs=[input_img, input_features], outputs=[outputs])\n",
    "# model.compile(optimizer='adam', loss='binary_crossentropy') #, metrics=[mean_iou]) # The mean_iou metrics seens to leak train and test values...\n",
    "# model.summary()"
   ]
  },
  {
   "cell_type": "code",
   "execution_count": 28,
   "metadata": {},
   "outputs": [],
   "source": [
    "def dice_coe(y_true, y_pred, loss_type='jaccard', axis=(0, 1, 2, 3), smooth=1e-5):\n",
    "    \"\"\"Soft dice (Sørensen or Jaccard) coefficient for comparing the similarity\n",
    "    of two batch of data, usually be used for binary image segmentation\n",
    "    i.e. labels are binary. The coefficient between 0 to 1, 1 means totally match.\n",
    "    Parameters\n",
    "    -----------\n",
    "    output : Tensor\n",
    "        A distribution with shape: [batch_size, ....], (any dimensions).\n",
    "    target : Tensor\n",
    "        The target distribution, format the same with `output`.\n",
    "    loss_type : str\n",
    "        ``jaccard`` or ``sorensen``, default is ``jaccard``.\n",
    "    axis : tuple of int\n",
    "        All dimensions are reduced, default ``[1,2,3]``.\n",
    "    smooth : float\n",
    "        This small value will be added to the numerator and denominator.\n",
    "            - If both output and target are empty, it makes sure dice is 1.\n",
    "            - If either output or target are empty (all pixels are background), dice = ```smooth/(small_value + smooth)``, then if smooth is very small, dice close to 0 (even the image values lower than the threshold), so in this case, higher smooth can have a higher dice.\n",
    "    Examples\n",
    "    ---------\n",
    "    >>> outputs = tl.act.pixel_wise_softmax(network.outputs)\n",
    "    >>> dice_loss = 1 - tl.cost.dice_coe(outputs, y_)\n",
    "    References\n",
    "    -----------\n",
    "    - `Wiki-Dice <https://en.wikipedia.org/wiki/Sørensen–Dice_coefficient>`__\n",
    "    \"\"\"\n",
    "    inse = tf.reduce_sum(y_pred * y_true, axis=axis)\n",
    "    if loss_type == 'jaccard':\n",
    "        l = tf.reduce_sum(y_pred * y_pred, axis=axis)\n",
    "        r = tf.reduce_sum(y_true * y_true, axis=axis)\n",
    "    elif loss_type == 'sorensen':\n",
    "        l = tf.reduce_sum(y_pred, axis=axis)\n",
    "        r = tf.reduce_sum(y_true, axis=axis)\n",
    "    else:\n",
    "        raise Exception(\"Unknow loss_type\")\n",
    "    # old axis=[0,1,2,3]\n",
    "    # dice = 2 * (inse) / (l + r)\n",
    "    # epsilon = 1e-5\n",
    "    # dice = tf.clip_by_value(dice, 0, 1.0-epsilon) # if all empty, dice = 1\n",
    "    # new haodong\n",
    "    dice = (2. * inse + smooth) / (l + r + smooth)\n",
    "    ##\n",
    "    dice = tf.reduce_mean(dice, name='dice_coe')\n",
    "    return dice"
   ]
  },
  {
   "cell_type": "code",
   "execution_count": 29,
   "metadata": {},
   "outputs": [],
   "source": [
    "def simple_dice_coe(y_true, y_pred):\n",
    "    axis = (0, 1, 2, 3)\n",
    "    smooth = 1e-5\n",
    "    \n",
    "    inse = tf.reduce_sum(y_pred * y_true, axis=axis)\n",
    "    l = tf.reduce_sum(y_pred * y_pred, axis=axis)\n",
    "    r = tf.reduce_sum(y_true * y_true, axis=axis)\n",
    "    dice = (2. * inse + smooth) / (l + r + smooth)\n",
    "    dice = tf.reduce_mean(dice, name='dice_coe')\n",
    "    return dice"
   ]
  },
  {
   "cell_type": "code",
   "execution_count": 30,
   "metadata": {},
   "outputs": [
    {
     "name": "stdout",
     "output_type": "stream",
     "text": [
      "__________________________________________________________________________________________________\n",
      "Layer (type)                    Output Shape         Param #     Connected to                     \n",
      "==================================================================================================\n",
      "img (InputLayer)                (None, 240, 240, 4)  0                                            \n",
      "__________________________________________________________________________________________________\n",
      "conv2d_20 (Conv2D)              (None, 240, 240, 64) 2368        img[0][0]                        \n",
      "__________________________________________________________________________________________________\n",
      "conv2d_21 (Conv2D)              (None, 240, 240, 64) 36928       conv2d_20[0][0]                  \n",
      "__________________________________________________________________________________________________\n",
      "max_pooling2d_5 (MaxPooling2D)  (None, 120, 120, 64) 0           conv2d_21[0][0]                  \n",
      "__________________________________________________________________________________________________\n",
      "conv2d_22 (Conv2D)              (None, 120, 120, 128 73856       max_pooling2d_5[0][0]            \n",
      "__________________________________________________________________________________________________\n",
      "conv2d_23 (Conv2D)              (None, 120, 120, 128 147584      conv2d_22[0][0]                  \n",
      "__________________________________________________________________________________________________\n",
      "max_pooling2d_6 (MaxPooling2D)  (None, 60, 60, 128)  0           conv2d_23[0][0]                  \n",
      "__________________________________________________________________________________________________\n",
      "conv2d_24 (Conv2D)              (None, 60, 60, 256)  295168      max_pooling2d_6[0][0]            \n",
      "__________________________________________________________________________________________________\n",
      "conv2d_25 (Conv2D)              (None, 60, 60, 256)  590080      conv2d_24[0][0]                  \n",
      "__________________________________________________________________________________________________\n",
      "max_pooling2d_7 (MaxPooling2D)  (None, 30, 30, 256)  0           conv2d_25[0][0]                  \n",
      "__________________________________________________________________________________________________\n",
      "conv2d_26 (Conv2D)              (None, 30, 30, 512)  1180160     max_pooling2d_7[0][0]            \n",
      "__________________________________________________________________________________________________\n",
      "conv2d_27 (Conv2D)              (None, 30, 30, 512)  2359808     conv2d_26[0][0]                  \n",
      "__________________________________________________________________________________________________\n",
      "max_pooling2d_8 (MaxPooling2D)  (None, 15, 15, 512)  0           conv2d_27[0][0]                  \n",
      "__________________________________________________________________________________________________\n",
      "conv2d_28 (Conv2D)              (None, 15, 15, 1024) 4719616     max_pooling2d_8[0][0]            \n",
      "__________________________________________________________________________________________________\n",
      "conv2d_29 (Conv2D)              (None, 15, 15, 1024) 9438208     conv2d_28[0][0]                  \n",
      "__________________________________________________________________________________________________\n",
      "conv2d_transpose_5 (Conv2DTrans (None, 30, 30, 512)  4719104     conv2d_29[0][0]                  \n",
      "__________________________________________________________________________________________________\n",
      "concatenate_5 (Concatenate)     (None, 30, 30, 1024) 0           conv2d_transpose_5[0][0]         \n",
      "                                                                 conv2d_27[0][0]                  \n",
      "__________________________________________________________________________________________________\n",
      "conv2d_30 (Conv2D)              (None, 30, 30, 512)  4719104     concatenate_5[0][0]              \n",
      "__________________________________________________________________________________________________\n",
      "conv2d_31 (Conv2D)              (None, 30, 30, 512)  2359808     conv2d_30[0][0]                  \n",
      "__________________________________________________________________________________________________\n",
      "conv2d_transpose_6 (Conv2DTrans (None, 60, 60, 256)  1179904     conv2d_31[0][0]                  \n",
      "__________________________________________________________________________________________________\n",
      "concatenate_6 (Concatenate)     (None, 60, 60, 512)  0           conv2d_transpose_6[0][0]         \n",
      "                                                                 conv2d_25[0][0]                  \n",
      "__________________________________________________________________________________________________\n",
      "conv2d_32 (Conv2D)              (None, 60, 60, 256)  1179904     concatenate_6[0][0]              \n",
      "__________________________________________________________________________________________________\n",
      "conv2d_33 (Conv2D)              (None, 60, 60, 256)  590080      conv2d_32[0][0]                  \n",
      "__________________________________________________________________________________________________\n",
      "conv2d_transpose_7 (Conv2DTrans (None, 120, 120, 128 295040      conv2d_33[0][0]                  \n",
      "__________________________________________________________________________________________________\n",
      "concatenate_7 (Concatenate)     (None, 120, 120, 256 0           conv2d_transpose_7[0][0]         \n",
      "                                                                 conv2d_23[0][0]                  \n",
      "__________________________________________________________________________________________________\n",
      "conv2d_34 (Conv2D)              (None, 120, 120, 128 295040      concatenate_7[0][0]              \n",
      "__________________________________________________________________________________________________\n",
      "conv2d_35 (Conv2D)              (None, 120, 120, 128 147584      conv2d_34[0][0]                  \n",
      "__________________________________________________________________________________________________\n",
      "conv2d_transpose_8 (Conv2DTrans (None, 240, 240, 64) 73792       conv2d_35[0][0]                  \n",
      "__________________________________________________________________________________________________\n",
      "concatenate_8 (Concatenate)     (None, 240, 240, 128 0           conv2d_transpose_8[0][0]         \n",
      "                                                                 conv2d_21[0][0]                  \n",
      "__________________________________________________________________________________________________\n",
      "conv2d_36 (Conv2D)              (None, 240, 240, 64) 73792       concatenate_8[0][0]              \n",
      "__________________________________________________________________________________________________\n",
      "conv2d_37 (Conv2D)              (None, 240, 240, 64) 36928       conv2d_36[0][0]                  \n",
      "__________________________________________________________________________________________________\n",
      "conv2d_38 (Conv2D)              (None, 240, 240, 1)  577         conv2d_37[0][0]                  \n",
      "==================================================================================================\n",
      "Total params: 34,514,433\n",
      "Trainable params: 34,514,433\n",
      "Non-trainable params: 0\n",
      "__________________________________________________________________________________________________\n"
     ]
    }
   ],
   "source": [
    "# Input\n",
    "\n",
    "# input_img = Input((im_height, im_width, im_chan), name='img')\n",
    "input_img = Input((im_height, im_width, 4), name='img') # 5 different modalities\n",
    "n_out = 1 \n",
    "\n",
    "# Encoding\n",
    "\n",
    "c1 = Conv2D(64, (3, 3), activation='relu', padding='same')(input_img)\n",
    "c1 = Conv2D(64, (3, 3), activation='relu', padding='same')(c1)\n",
    "p1 = MaxPooling2D((2, 2))(c1)\n",
    "\n",
    "c2 = Conv2D(128, (3, 3), activation='relu', padding='same')(p1)\n",
    "c2 = Conv2D(128, (3, 3), activation='relu', padding='same')(c2)\n",
    "p2 = MaxPooling2D((2, 2))(c2)\n",
    "\n",
    "c3 = Conv2D(256, (3, 3), activation='relu', padding='same')(p2)\n",
    "c3 = Conv2D(256, (3, 3), activation='relu', padding='same')(c3)\n",
    "p3 = MaxPooling2D((2, 2))(c3)\n",
    "\n",
    "c4 = Conv2D(512, (3, 3), activation='relu', padding='same')(p3)\n",
    "c4 = Conv2D(512, (3, 3), activation='relu', padding='same')(c4)\n",
    "p4 = MaxPooling2D((2, 2))(c4)\n",
    "\n",
    "c5 = Conv2D(1024, (3, 3), activation='relu', padding='same')(p4) # 9.4 million params\n",
    "c5 = Conv2D(1024, (3, 3), activation='relu', padding='same')(c5)\n",
    "\n",
    "# Decoding\n",
    "\n",
    "u4 = Conv2DTranspose(512, (3, 3), strides=(2,2), padding='same')(c5)\n",
    "u4 = concatenate([u4, c4])\n",
    "c4 = Conv2D(512, (3,3), activation='relu', padding='same')(u4)\n",
    "c4 = Conv2D(512, (3,3), activation='relu', padding='same')(c4)\n",
    "\n",
    "u3 = Conv2DTranspose(256, (3, 3), strides=(2,2), padding='same')(c4)\n",
    "u3 = concatenate([u3, c3])\n",
    "c3 = Conv2D(256, (3,3), activation='relu', padding='same')(u3)\n",
    "c3 = Conv2D(256, (3,3), activation='relu', padding='same')(c3)\n",
    "\n",
    "u2 = Conv2DTranspose(128, (3, 3), strides=(2,2), padding='same')(c3)\n",
    "u2 = concatenate([u2, c2])\n",
    "c2 = Conv2D(128, (3,3), activation='relu', padding='same')(u2)\n",
    "c2 = Conv2D(128, (3,3), activation='relu', padding='same')(c2)\n",
    "\n",
    "u1 = Conv2DTranspose(64, (3, 3), strides=(2,2), padding='same')(c2)\n",
    "u1 = concatenate([u1, c1])\n",
    "c1 = Conv2D(64, (3,3), activation='relu', padding='same')(u1)\n",
    "c1 = Conv2D(64, (3,3), activation='relu', padding='same')(c1)\n",
    "outputs = Conv2D(n_out, (3,3), activation='sigmoid', padding='same')(c1)\n",
    "\n",
    "# model = Model(inputs=[input_img, input_features], outputs=[outputs])\n",
    "model = Model(inputs=[input_img], outputs=[outputs])\n",
    "model.compile(optimizer='adam', loss='binary_crossentropy') #, metrics=['mean_iou'])\n",
    "model.summary()"
   ]
  },
  {
   "cell_type": "code",
   "execution_count": 31,
   "metadata": {},
   "outputs": [],
   "source": [
    "def load_sample():\n",
    "    folder = '/Users/itimmis/Desktop/Concentration2/BratsNet_Data/HGG/Brats17_2013_10_1/'\n",
    "\n",
    "    # Training data\n",
    "    t1 = ((nib.load(folder + 'Brats17_2013_10_1_t1.nii.gz')).get_fdata())\n",
    "    t1ce = ((nib.load(folder + 'Brats17_2013_10_1_t1ce.nii.gz')).get_fdata())\n",
    "    t2 = ((nib.load(folder + 'Brats17_2013_10_1_t2.nii.gz')).get_fdata())\n",
    "    flair = ((nib.load(folder + 'Brats17_2013_10_1_flair.nii.gz')).get_fdata())\n",
    "\n",
    "    # Label\n",
    "    seg = ((nib.load(folder + 'Brats17_2013_10_1_seg.nii.gz')).get_fdata())\n",
    "    \n",
    "    x_train = []\n",
    "    y_train = []\n",
    "    \n",
    "    shape = t1.shape\n",
    "    for i in range(155):\n",
    "        t1_layer = t1[:,:,i].reshape(shape[0], shape[1], 1)\n",
    "        t1ce_layer = t1ce[:,:,i].reshape(shape[0], shape[1], 1)\n",
    "        t2_layer = t2[:,:,i].reshape(shape[0], shape[1], 1)\n",
    "        flair_layer = flair[:,:,i].reshape(shape[0], shape[1], 1)\n",
    "        \n",
    "        train_layer = np.concatenate([t1_layer, t1ce_layer, t2_layer, flair_layer], 2)\n",
    "        x_train.append(train_layer)\n",
    "        \n",
    "        y_train.append(seg[:,:,i].reshape(shape[0], shape[1], 1))\n",
    "    \n",
    "    \n",
    "    return np.array(x_train), np.array(y_train)"
   ]
  },
  {
   "cell_type": "code",
   "execution_count": 32,
   "metadata": {},
   "outputs": [
    {
     "name": "stdout",
     "output_type": "stream",
     "text": [
      "(155, 240, 240, 4)\n",
      "(155, 240, 240, 1)\n"
     ]
    }
   ],
   "source": [
    "x, y = load_sample()\n",
    "print(x.shape)\n",
    "print(y.shape)"
   ]
  },
  {
   "cell_type": "code",
   "execution_count": null,
   "metadata": {},
   "outputs": [
    {
     "name": "stdout",
     "output_type": "stream",
     "text": [
      "Epoch 1/10\n"
     ]
    }
   ],
   "source": [
    "model.fit(x, y, epochs=10, batch_size=32)"
   ]
  },
  {
   "cell_type": "code",
   "execution_count": null,
   "metadata": {},
   "outputs": [],
   "source": []
  }
 ],
 "metadata": {
  "kernelspec": {
   "display_name": "Python 3",
   "language": "python",
   "name": "python3"
  },
  "language_info": {
   "codemirror_mode": {
    "name": "ipython",
    "version": 3
   },
   "file_extension": ".py",
   "mimetype": "text/x-python",
   "name": "python",
   "nbconvert_exporter": "python",
   "pygments_lexer": "ipython3",
   "version": "3.5.6"
  }
 },
 "nbformat": 4,
 "nbformat_minor": 2
}
